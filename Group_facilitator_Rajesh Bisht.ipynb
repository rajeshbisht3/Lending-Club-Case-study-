{
  "nbformat": 4,
  "nbformat_minor": 0,
  "metadata": {
    "colab": {
      "provenance": [],
      "collapsed_sections": []
    },
    "kernelspec": {
      "name": "python3",
      "display_name": "Python 3"
    },
    "language_info": {
      "name": "python"
    }
  },
  "cells": [
    {
      "cell_type": "code",
      "execution_count": null,
      "metadata": {
        "id": "RW71yw7KMw1N"
      },
      "outputs": [],
      "source": []
    },
    {
      "cell_type": "code",
      "source": [],
      "metadata": {
        "id": "XfmmqB-x4mED"
      },
      "execution_count": null,
      "outputs": []
    },
    {
      "cell_type": "markdown",
      "source": [
        "**Lending Club Case study **"
      ],
      "metadata": {
        "id": "7U4tvVPINdpC"
      }
    },
    {
      "cell_type": "markdown",
      "source": [
        "Import loan sheet"
      ],
      "metadata": {
        "id": "uleNS7gFNmgp"
      }
    },
    {
      "cell_type": "code",
      "source": [
        "from google.colab import drive"
      ],
      "metadata": {
        "id": "Lti5OnpsNp0J"
      },
      "execution_count": null,
      "outputs": []
    },
    {
      "cell_type": "code",
      "source": [
        "drive.mount(\"/content/gdrive\")"
      ],
      "metadata": {
        "colab": {
          "base_uri": "https://localhost:8080/"
        },
        "id": "enWhCYsQN3Ig",
        "outputId": "a740297f-0c08-44ea-e25a-842c08ec4631"
      },
      "execution_count": null,
      "outputs": [
        {
          "output_type": "stream",
          "name": "stdout",
          "text": [
            "Mounted at /content/gdrive\n"
          ]
        }
      ]
    },
    {
      "cell_type": "code",
      "source": [
        "import pandas as pd"
      ],
      "metadata": {
        "id": "814bCRbpOQHB"
      },
      "execution_count": null,
      "outputs": []
    },
    {
      "cell_type": "code",
      "source": [
        "data=pd.read_csv('/content/gdrive/MyDrive/Python Upgrad/loan.csv')"
      ],
      "metadata": {
        "id": "cuqoZhJIRVrX",
        "colab": {
          "base_uri": "https://localhost:8080/"
        },
        "outputId": "c7293e7c-f119-4fde-a5c7-e5f1d7c1ec83"
      },
      "execution_count": null,
      "outputs": [
        {
          "output_type": "stream",
          "name": "stderr",
          "text": [
            "/usr/local/lib/python3.7/dist-packages/IPython/core/interactiveshell.py:3326: DtypeWarning: Columns (47) have mixed types.Specify dtype option on import or set low_memory=False.\n",
            "  exec(code_obj, self.user_global_ns, self.user_ns)\n"
          ]
        }
      ]
    },
    {
      "cell_type": "code",
      "source": [
        "data.head"
      ],
      "metadata": {
        "colab": {
          "base_uri": "https://localhost:8080/"
        },
        "id": "NjMkuHJ9Rip4",
        "outputId": "a16e5be6-448b-4252-8525-f7380a4d2307"
      },
      "execution_count": null,
      "outputs": [
        {
          "output_type": "execute_result",
          "data": {
            "text/plain": [
              "<bound method NDFrame.head of             id  member_id  loan_amnt  funded_amnt  funded_amnt_inv  \\\n",
              "0      1077501    1296599       5000         5000           4975.0   \n",
              "1      1077430    1314167       2500         2500           2500.0   \n",
              "2      1077175    1313524       2400         2400           2400.0   \n",
              "3      1076863    1277178      10000        10000          10000.0   \n",
              "4      1075358    1311748       3000         3000           3000.0   \n",
              "...        ...        ...        ...          ...              ...   \n",
              "39712    92187      92174       2500         2500           1075.0   \n",
              "39713    90665      90607       8500         8500            875.0   \n",
              "39714    90395      90390       5000         5000           1325.0   \n",
              "39715    90376      89243       5000         5000            650.0   \n",
              "39716    87023      86999       7500         7500            800.0   \n",
              "\n",
              "             term int_rate  installment grade sub_grade  ...  \\\n",
              "0       36 months   10.65%       162.87     B        B2  ...   \n",
              "1       60 months   15.27%        59.83     C        C4  ...   \n",
              "2       36 months   15.96%        84.33     C        C5  ...   \n",
              "3       36 months   13.49%       339.31     C        C1  ...   \n",
              "4       60 months   12.69%        67.79     B        B5  ...   \n",
              "...           ...      ...          ...   ...       ...  ...   \n",
              "39712   36 months    8.07%        78.42     A        A4  ...   \n",
              "39713   36 months   10.28%       275.38     C        C1  ...   \n",
              "39714   36 months    8.07%       156.84     A        A4  ...   \n",
              "39715   36 months    7.43%       155.38     A        A2  ...   \n",
              "39716   36 months   13.75%       255.43     E        E2  ...   \n",
              "\n",
              "      num_tl_90g_dpd_24m num_tl_op_past_12m pct_tl_nvr_dlq  percent_bc_gt_75  \\\n",
              "0                    NaN                NaN            NaN               NaN   \n",
              "1                    NaN                NaN            NaN               NaN   \n",
              "2                    NaN                NaN            NaN               NaN   \n",
              "3                    NaN                NaN            NaN               NaN   \n",
              "4                    NaN                NaN            NaN               NaN   \n",
              "...                  ...                ...            ...               ...   \n",
              "39712                NaN                NaN            NaN               NaN   \n",
              "39713                NaN                NaN            NaN               NaN   \n",
              "39714                NaN                NaN            NaN               NaN   \n",
              "39715                NaN                NaN            NaN               NaN   \n",
              "39716                NaN                NaN            NaN               NaN   \n",
              "\n",
              "      pub_rec_bankruptcies tax_liens tot_hi_cred_lim total_bal_ex_mort  \\\n",
              "0                      0.0       0.0             NaN               NaN   \n",
              "1                      0.0       0.0             NaN               NaN   \n",
              "2                      0.0       0.0             NaN               NaN   \n",
              "3                      0.0       0.0             NaN               NaN   \n",
              "4                      0.0       0.0             NaN               NaN   \n",
              "...                    ...       ...             ...               ...   \n",
              "39712                  NaN       NaN             NaN               NaN   \n",
              "39713                  NaN       NaN             NaN               NaN   \n",
              "39714                  NaN       NaN             NaN               NaN   \n",
              "39715                  NaN       NaN             NaN               NaN   \n",
              "39716                  NaN       NaN             NaN               NaN   \n",
              "\n",
              "      total_bc_limit total_il_high_credit_limit  \n",
              "0                NaN                        NaN  \n",
              "1                NaN                        NaN  \n",
              "2                NaN                        NaN  \n",
              "3                NaN                        NaN  \n",
              "4                NaN                        NaN  \n",
              "...              ...                        ...  \n",
              "39712            NaN                        NaN  \n",
              "39713            NaN                        NaN  \n",
              "39714            NaN                        NaN  \n",
              "39715            NaN                        NaN  \n",
              "39716            NaN                        NaN  \n",
              "\n",
              "[39717 rows x 111 columns]>"
            ]
          },
          "metadata": {},
          "execution_count": 9
        }
      ]
    },
    {
      "cell_type": "code",
      "source": [
        "data.shape\n"
      ],
      "metadata": {
        "colab": {
          "base_uri": "https://localhost:8080/"
        },
        "id": "GjfJu6ltRlPg",
        "outputId": "870598b3-003d-468f-b4d4-623cdb708b8d"
      },
      "execution_count": null,
      "outputs": [
        {
          "output_type": "execute_result",
          "data": {
            "text/plain": [
              "(39717, 111)"
            ]
          },
          "metadata": {},
          "execution_count": 10
        }
      ]
    },
    {
      "cell_type": "code",
      "source": [
        "data.columns"
      ],
      "metadata": {
        "colab": {
          "base_uri": "https://localhost:8080/"
        },
        "id": "6FYSjLGSRpxv",
        "outputId": "7f01e232-5a0e-4f43-e615-ca14f65f1dd6"
      },
      "execution_count": null,
      "outputs": [
        {
          "output_type": "execute_result",
          "data": {
            "text/plain": [
              "Index(['id', 'member_id', 'loan_amnt', 'funded_amnt', 'funded_amnt_inv',\n",
              "       'term', 'int_rate', 'installment', 'grade', 'sub_grade',\n",
              "       ...\n",
              "       'num_tl_90g_dpd_24m', 'num_tl_op_past_12m', 'pct_tl_nvr_dlq',\n",
              "       'percent_bc_gt_75', 'pub_rec_bankruptcies', 'tax_liens',\n",
              "       'tot_hi_cred_lim', 'total_bal_ex_mort', 'total_bc_limit',\n",
              "       'total_il_high_credit_limit'],\n",
              "      dtype='object', length=111)"
            ]
          },
          "metadata": {},
          "execution_count": 11
        }
      ]
    },
    {
      "cell_type": "markdown",
      "source": [
        "Import Directories "
      ],
      "metadata": {
        "id": "qtVz4erPRtgY"
      }
    },
    {
      "cell_type": "code",
      "source": [
        "import numpy as np\n",
        "import pandas as pd\n",
        "import matplotlib.pyplot as plt\n",
        "import seaborn as sns\n"
      ],
      "metadata": {
        "id": "MKafAvYoRvlp"
      },
      "execution_count": null,
      "outputs": []
    },
    {
      "cell_type": "code",
      "source": [
        "data.isnull().sum()"
      ],
      "metadata": {
        "colab": {
          "base_uri": "https://localhost:8080/"
        },
        "id": "tkIoZqYLSExH",
        "outputId": "c884761d-0c15-473a-c785-d292a1a5a6cf"
      },
      "execution_count": 16,
      "outputs": [
        {
          "output_type": "execute_result",
          "data": {
            "text/plain": [
              "id                                0\n",
              "member_id                         0\n",
              "loan_amnt                         0\n",
              "funded_amnt                       0\n",
              "funded_amnt_inv                   0\n",
              "                              ...  \n",
              "tax_liens                        39\n",
              "tot_hi_cred_lim               39717\n",
              "total_bal_ex_mort             39717\n",
              "total_bc_limit                39717\n",
              "total_il_high_credit_limit    39717\n",
              "Length: 111, dtype: int64"
            ]
          },
          "metadata": {},
          "execution_count": 16
        }
      ]
    },
    {
      "cell_type": "code",
      "source": [],
      "metadata": {
        "id": "gOB3tJEk40DK"
      },
      "execution_count": null,
      "outputs": []
    },
    {
      "cell_type": "markdown",
      "source": [
        "many missing values so data cleaning required "
      ],
      "metadata": {
        "id": "NOE0zXtx5M18"
      }
    },
    {
      "cell_type": "code",
      "source": [
        "missing_columns = data.columns[100*(data.isnull().sum()/len(data.index)) > 95]"
      ],
      "metadata": {
        "id": "DqOhh2mL5R4U"
      },
      "execution_count": 23,
      "outputs": []
    },
    {
      "cell_type": "code",
      "source": [
        "print(missing_columns)"
      ],
      "metadata": {
        "colab": {
          "base_uri": "https://localhost:8080/"
        },
        "id": "verwD3dO5itD",
        "outputId": "ce6beb56-5fc2-4d81-ffdf-be917f1b66d5"
      },
      "execution_count": 24,
      "outputs": [
        {
          "output_type": "stream",
          "name": "stdout",
          "text": [
            "Index(['next_pymnt_d', 'mths_since_last_major_derog', 'annual_inc_joint',\n",
            "       'dti_joint', 'verification_status_joint', 'tot_coll_amt', 'tot_cur_bal',\n",
            "       'open_acc_6m', 'open_il_6m', 'open_il_12m', 'open_il_24m',\n",
            "       'mths_since_rcnt_il', 'total_bal_il', 'il_util', 'open_rv_12m',\n",
            "       'open_rv_24m', 'max_bal_bc', 'all_util', 'total_rev_hi_lim', 'inq_fi',\n",
            "       'total_cu_tl', 'inq_last_12m', 'acc_open_past_24mths', 'avg_cur_bal',\n",
            "       'bc_open_to_buy', 'bc_util', 'mo_sin_old_il_acct',\n",
            "       'mo_sin_old_rev_tl_op', 'mo_sin_rcnt_rev_tl_op', 'mo_sin_rcnt_tl',\n",
            "       'mort_acc', 'mths_since_recent_bc', 'mths_since_recent_bc_dlq',\n",
            "       'mths_since_recent_inq', 'mths_since_recent_revol_delinq',\n",
            "       'num_accts_ever_120_pd', 'num_actv_bc_tl', 'num_actv_rev_tl',\n",
            "       'num_bc_sats', 'num_bc_tl', 'num_il_tl', 'num_op_rev_tl',\n",
            "       'num_rev_accts', 'num_rev_tl_bal_gt_0', 'num_sats', 'num_tl_120dpd_2m',\n",
            "       'num_tl_30dpd', 'num_tl_90g_dpd_24m', 'num_tl_op_past_12m',\n",
            "       'pct_tl_nvr_dlq', 'percent_bc_gt_75', 'tot_hi_cred_lim',\n",
            "       'total_bal_ex_mort', 'total_bc_limit', 'total_il_high_credit_limit'],\n",
            "      dtype='object')\n"
          ]
        }
      ]
    },
    {
      "cell_type": "markdown",
      "source": [
        "remove missing clououms with high missing values"
      ],
      "metadata": {
        "id": "Zj6XOoIo6J0k"
      }
    },
    {
      "cell_type": "code",
      "source": [
        "data=data.drop(missing_columns,axis=1)"
      ],
      "metadata": {
        "id": "itmb-JLU6PgD"
      },
      "execution_count": 25,
      "outputs": []
    },
    {
      "cell_type": "code",
      "source": [
        "print(data.shape)"
      ],
      "metadata": {
        "colab": {
          "base_uri": "https://localhost:8080/"
        },
        "id": "H8SSYPQH6eCz",
        "outputId": "fde09e02-9022-423b-927c-3b0b9862de24"
      },
      "execution_count": 26,
      "outputs": [
        {
          "output_type": "stream",
          "name": "stdout",
          "text": [
            "(39717, 56)\n"
          ]
        }
      ]
    },
    {
      "cell_type": "code",
      "source": [
        "data.info()"
      ],
      "metadata": {
        "colab": {
          "base_uri": "https://localhost:8080/"
        },
        "id": "pYBGZPg664ZB",
        "outputId": "8323d9c4-aef8-410f-9ea3-19f2a93809e7"
      },
      "execution_count": 27,
      "outputs": [
        {
          "output_type": "stream",
          "name": "stdout",
          "text": [
            "<class 'pandas.core.frame.DataFrame'>\n",
            "RangeIndex: 39717 entries, 0 to 39716\n",
            "Data columns (total 56 columns):\n",
            " #   Column                      Non-Null Count  Dtype  \n",
            "---  ------                      --------------  -----  \n",
            " 0   id                          39717 non-null  int64  \n",
            " 1   member_id                   39717 non-null  int64  \n",
            " 2   loan_amnt                   39717 non-null  int64  \n",
            " 3   funded_amnt                 39717 non-null  int64  \n",
            " 4   funded_amnt_inv             39717 non-null  float64\n",
            " 5   term                        39717 non-null  object \n",
            " 6   int_rate                    39717 non-null  object \n",
            " 7   installment                 39717 non-null  float64\n",
            " 8   grade                       39717 non-null  object \n",
            " 9   sub_grade                   39717 non-null  object \n",
            " 10  emp_title                   37258 non-null  object \n",
            " 11  emp_length                  38642 non-null  object \n",
            " 12  home_ownership              39717 non-null  object \n",
            " 13  annual_inc                  39717 non-null  float64\n",
            " 14  verification_status         39717 non-null  object \n",
            " 15  issue_d                     39717 non-null  object \n",
            " 16  loan_status                 39717 non-null  object \n",
            " 17  pymnt_plan                  39717 non-null  object \n",
            " 18  url                         39717 non-null  object \n",
            " 19  desc                        26777 non-null  object \n",
            " 20  purpose                     39717 non-null  object \n",
            " 21  title                       39706 non-null  object \n",
            " 22  zip_code                    39717 non-null  object \n",
            " 23  addr_state                  39717 non-null  object \n",
            " 24  dti                         39717 non-null  float64\n",
            " 25  delinq_2yrs                 39717 non-null  int64  \n",
            " 26  earliest_cr_line            39717 non-null  object \n",
            " 27  inq_last_6mths              39717 non-null  int64  \n",
            " 28  mths_since_last_delinq      14035 non-null  float64\n",
            " 29  mths_since_last_record      2786 non-null   float64\n",
            " 30  open_acc                    39717 non-null  int64  \n",
            " 31  pub_rec                     39717 non-null  int64  \n",
            " 32  revol_bal                   39717 non-null  int64  \n",
            " 33  revol_util                  39667 non-null  object \n",
            " 34  total_acc                   39717 non-null  int64  \n",
            " 35  initial_list_status         39717 non-null  object \n",
            " 36  out_prncp                   39717 non-null  float64\n",
            " 37  out_prncp_inv               39717 non-null  float64\n",
            " 38  total_pymnt                 39717 non-null  float64\n",
            " 39  total_pymnt_inv             39717 non-null  float64\n",
            " 40  total_rec_prncp             39717 non-null  float64\n",
            " 41  total_rec_int               39717 non-null  float64\n",
            " 42  total_rec_late_fee          39717 non-null  float64\n",
            " 43  recoveries                  39717 non-null  float64\n",
            " 44  collection_recovery_fee     39717 non-null  float64\n",
            " 45  last_pymnt_d                39646 non-null  object \n",
            " 46  last_pymnt_amnt             39717 non-null  float64\n",
            " 47  last_credit_pull_d          39715 non-null  object \n",
            " 48  collections_12_mths_ex_med  39661 non-null  float64\n",
            " 49  policy_code                 39717 non-null  int64  \n",
            " 50  application_type            39717 non-null  object \n",
            " 51  acc_now_delinq              39717 non-null  int64  \n",
            " 52  chargeoff_within_12_mths    39661 non-null  float64\n",
            " 53  delinq_amnt                 39717 non-null  int64  \n",
            " 54  pub_rec_bankruptcies        39020 non-null  float64\n",
            " 55  tax_liens                   39678 non-null  float64\n",
            "dtypes: float64(20), int64(13), object(23)\n",
            "memory usage: 17.0+ MB\n"
          ]
        }
      ]
    },
    {
      "cell_type": "code",
      "source": [
        "data['int_rate'] = data['int_rate'].apply(lambda x: pd.to_numeric(x.split(\"%\")[0]))"
      ],
      "metadata": {
        "id": "syEjDMgX67nK"
      },
      "execution_count": 32,
      "outputs": []
    },
    {
      "cell_type": "code",
      "source": [
        "data.info()"
      ],
      "metadata": {
        "colab": {
          "base_uri": "https://localhost:8080/"
        },
        "id": "PKHcn4KA8Vza",
        "outputId": "5d9f2135-8b42-4ec0-9fa8-f663dd8ab9b7"
      },
      "execution_count": 33,
      "outputs": [
        {
          "output_type": "stream",
          "name": "stdout",
          "text": [
            "<class 'pandas.core.frame.DataFrame'>\n",
            "RangeIndex: 39717 entries, 0 to 39716\n",
            "Data columns (total 56 columns):\n",
            " #   Column                      Non-Null Count  Dtype  \n",
            "---  ------                      --------------  -----  \n",
            " 0   id                          39717 non-null  int64  \n",
            " 1   member_id                   39717 non-null  int64  \n",
            " 2   loan_amnt                   39717 non-null  int64  \n",
            " 3   funded_amnt                 39717 non-null  int64  \n",
            " 4   funded_amnt_inv             39717 non-null  float64\n",
            " 5   term                        39717 non-null  object \n",
            " 6   int_rate                    39717 non-null  float64\n",
            " 7   installment                 39717 non-null  float64\n",
            " 8   grade                       39717 non-null  object \n",
            " 9   sub_grade                   39717 non-null  object \n",
            " 10  emp_title                   37258 non-null  object \n",
            " 11  emp_length                  38642 non-null  object \n",
            " 12  home_ownership              39717 non-null  object \n",
            " 13  annual_inc                  39717 non-null  float64\n",
            " 14  verification_status         39717 non-null  object \n",
            " 15  issue_d                     39717 non-null  object \n",
            " 16  loan_status                 39717 non-null  object \n",
            " 17  pymnt_plan                  39717 non-null  object \n",
            " 18  url                         39717 non-null  object \n",
            " 19  desc                        26777 non-null  object \n",
            " 20  purpose                     39717 non-null  object \n",
            " 21  title                       39706 non-null  object \n",
            " 22  zip_code                    39717 non-null  object \n",
            " 23  addr_state                  39717 non-null  object \n",
            " 24  dti                         39717 non-null  float64\n",
            " 25  delinq_2yrs                 39717 non-null  int64  \n",
            " 26  earliest_cr_line            39717 non-null  object \n",
            " 27  inq_last_6mths              39717 non-null  int64  \n",
            " 28  mths_since_last_delinq      14035 non-null  float64\n",
            " 29  mths_since_last_record      2786 non-null   float64\n",
            " 30  open_acc                    39717 non-null  int64  \n",
            " 31  pub_rec                     39717 non-null  int64  \n",
            " 32  revol_bal                   39717 non-null  int64  \n",
            " 33  revol_util                  39667 non-null  object \n",
            " 34  total_acc                   39717 non-null  int64  \n",
            " 35  initial_list_status         39717 non-null  object \n",
            " 36  out_prncp                   39717 non-null  float64\n",
            " 37  out_prncp_inv               39717 non-null  float64\n",
            " 38  total_pymnt                 39717 non-null  float64\n",
            " 39  total_pymnt_inv             39717 non-null  float64\n",
            " 40  total_rec_prncp             39717 non-null  float64\n",
            " 41  total_rec_int               39717 non-null  float64\n",
            " 42  total_rec_late_fee          39717 non-null  float64\n",
            " 43  recoveries                  39717 non-null  float64\n",
            " 44  collection_recovery_fee     39717 non-null  float64\n",
            " 45  last_pymnt_d                39646 non-null  object \n",
            " 46  last_pymnt_amnt             39717 non-null  float64\n",
            " 47  last_credit_pull_d          39715 non-null  object \n",
            " 48  collections_12_mths_ex_med  39661 non-null  float64\n",
            " 49  policy_code                 39717 non-null  int64  \n",
            " 50  application_type            39717 non-null  object \n",
            " 51  acc_now_delinq              39717 non-null  int64  \n",
            " 52  chargeoff_within_12_mths    39661 non-null  float64\n",
            " 53  delinq_amnt                 39717 non-null  int64  \n",
            " 54  pub_rec_bankruptcies        39020 non-null  float64\n",
            " 55  tax_liens                   39678 non-null  float64\n",
            "dtypes: float64(21), int64(13), object(22)\n",
            "memory usage: 17.0+ MB\n"
          ]
        }
      ]
    },
    {
      "cell_type": "code",
      "source": [
        "Consider_data =  [\n",
        "  \"delinq_2yrs\",\n",
        "  \"earliest_cr_line\",\n",
        "  \"inq_last_6mths\",\n",
        "  \"open_acc\",\n",
        "  \"pub_rec\",\n",
        "  \"revol_bal\",\n",
        "  \"revol_util\",\n",
        "  \"total_acc\",\n",
        "  \"out_prncp\",\n",
        "  \"out_prncp_inv\",\n",
        "  \"total_pymnt\",\n",
        "  \"total_pymnt_inv\",\n",
        "  \"total_rec_prncp\",\n",
        "  \"total_rec_int\",\n",
        "  \"total_rec_late_fee\",\n",
        "  \"recoveries\",\n",
        "  \"collection_recovery_fee\",\n",
        "  \"last_pymnt_d\",\n",
        "  \"last_pymnt_amnt\",\n",
        "  \"last_credit_pull_d\",\n",
        "  \"application_type\"]\n",
        "Consider_data"
      ],
      "metadata": {
        "colab": {
          "base_uri": "https://localhost:8080/"
        },
        "id": "1QY1G8-p-u4q",
        "outputId": "b4c3a799-f0a0-45f4-f12d-ca205ecad892"
      },
      "execution_count": 34,
      "outputs": [
        {
          "output_type": "execute_result",
          "data": {
            "text/plain": [
              "['delinq_2yrs',\n",
              " 'earliest_cr_line',\n",
              " 'inq_last_6mths',\n",
              " 'open_acc',\n",
              " 'pub_rec',\n",
              " 'revol_bal',\n",
              " 'revol_util',\n",
              " 'total_acc',\n",
              " 'out_prncp',\n",
              " 'out_prncp_inv',\n",
              " 'total_pymnt',\n",
              " 'total_pymnt_inv',\n",
              " 'total_rec_prncp',\n",
              " 'total_rec_int',\n",
              " 'total_rec_late_fee',\n",
              " 'recoveries',\n",
              " 'collection_recovery_fee',\n",
              " 'last_pymnt_d',\n",
              " 'last_pymnt_amnt',\n",
              " 'last_credit_pull_d',\n",
              " 'application_type']"
            ]
          },
          "metadata": {},
          "execution_count": 34
        }
      ]
    },
    {
      "cell_type": "code",
      "source": [
        "Consider_data =  [\n",
        "  \"delinq_2yrs\",\n",
        "  \"earliest_cr_line\",\n",
        "  \"inq_last_6mths\",\n",
        "  \"open_acc\",\n",
        "  \"pub_rec\",\n",
        "  \"revol_bal\",\n",
        "  \"revol_util\",\n",
        "  \"total_acc\",\n",
        "  \"out_prncp\",\n",
        "  \"out_prncp_inv\",\n",
        "  \"total_pymnt\",\n",
        "  \"total_pymnt_inv\",\n",
        "  \"total_rec_prncp\",\n",
        "  \"total_rec_int\",\n",
        "  \"total_rec_late_fee\",\n",
        "  \"recoveries\",\n",
        "  \"collection_recovery_fee\",\n",
        "  \"last_pymnt_d\",\n",
        "  \"last_pymnt_amnt\",\n",
        "  \"last_credit_pull_d\",\n",
        "  \"application_type\"]\n",
        "Consider_data"
      ],
      "metadata": {
        "colab": {
          "base_uri": "https://localhost:8080/"
        },
        "outputId": "b4c3a799-f0a0-45f4-f12d-ca205ecad892",
        "id": "gRqXk7PK_K5m"
      },
      "execution_count": null,
      "outputs": [
        {
          "output_type": "execute_result",
          "data": {
            "text/plain": [
              "['delinq_2yrs',\n",
              " 'earliest_cr_line',\n",
              " 'inq_last_6mths',\n",
              " 'open_acc',\n",
              " 'pub_rec',\n",
              " 'revol_bal',\n",
              " 'revol_util',\n",
              " 'total_acc',\n",
              " 'out_prncp',\n",
              " 'out_prncp_inv',\n",
              " 'total_pymnt',\n",
              " 'total_pymnt_inv',\n",
              " 'total_rec_prncp',\n",
              " 'total_rec_int',\n",
              " 'total_rec_late_fee',\n",
              " 'recoveries',\n",
              " 'collection_recovery_fee',\n",
              " 'last_pymnt_d',\n",
              " 'last_pymnt_amnt',\n",
              " 'last_credit_pull_d',\n",
              " 'application_type']"
            ]
          },
          "metadata": {},
          "execution_count": 34
        }
      ]
    },
    {
      "cell_type": "code",
      "source": [
        "df=data.drop(Consider_data,axis=1)"
      ],
      "metadata": {
        "id": "_xWRhpUI_MrR"
      },
      "execution_count": 41,
      "outputs": []
    },
    {
      "cell_type": "code",
      "source": [
        "df.info()"
      ],
      "metadata": {
        "colab": {
          "base_uri": "https://localhost:8080/"
        },
        "id": "OnyBLfXIBx1h",
        "outputId": "05204c0d-0d7c-4ee3-a6ad-22cc211ae90d"
      },
      "execution_count": 42,
      "outputs": [
        {
          "output_type": "stream",
          "name": "stdout",
          "text": [
            "<class 'pandas.core.frame.DataFrame'>\n",
            "RangeIndex: 39717 entries, 0 to 39716\n",
            "Data columns (total 35 columns):\n",
            " #   Column                      Non-Null Count  Dtype  \n",
            "---  ------                      --------------  -----  \n",
            " 0   id                          39717 non-null  int64  \n",
            " 1   member_id                   39717 non-null  int64  \n",
            " 2   loan_amnt                   39717 non-null  int64  \n",
            " 3   funded_amnt                 39717 non-null  int64  \n",
            " 4   funded_amnt_inv             39717 non-null  float64\n",
            " 5   term                        39717 non-null  object \n",
            " 6   int_rate                    39717 non-null  float64\n",
            " 7   installment                 39717 non-null  float64\n",
            " 8   grade                       39717 non-null  object \n",
            " 9   sub_grade                   39717 non-null  object \n",
            " 10  emp_title                   37258 non-null  object \n",
            " 11  emp_length                  38642 non-null  object \n",
            " 12  home_ownership              39717 non-null  object \n",
            " 13  annual_inc                  39717 non-null  float64\n",
            " 14  verification_status         39717 non-null  object \n",
            " 15  issue_d                     39717 non-null  object \n",
            " 16  loan_status                 39717 non-null  object \n",
            " 17  pymnt_plan                  39717 non-null  object \n",
            " 18  url                         39717 non-null  object \n",
            " 19  desc                        26777 non-null  object \n",
            " 20  purpose                     39717 non-null  object \n",
            " 21  title                       39706 non-null  object \n",
            " 22  zip_code                    39717 non-null  object \n",
            " 23  addr_state                  39717 non-null  object \n",
            " 24  dti                         39717 non-null  float64\n",
            " 25  mths_since_last_delinq      14035 non-null  float64\n",
            " 26  mths_since_last_record      2786 non-null   float64\n",
            " 27  initial_list_status         39717 non-null  object \n",
            " 28  collections_12_mths_ex_med  39661 non-null  float64\n",
            " 29  policy_code                 39717 non-null  int64  \n",
            " 30  acc_now_delinq              39717 non-null  int64  \n",
            " 31  chargeoff_within_12_mths    39661 non-null  float64\n",
            " 32  delinq_amnt                 39717 non-null  int64  \n",
            " 33  pub_rec_bankruptcies        39020 non-null  float64\n",
            " 34  tax_liens                   39678 non-null  float64\n",
            "dtypes: float64(11), int64(7), object(17)\n",
            "memory usage: 10.6+ MB\n"
          ]
        }
      ]
    },
    {
      "cell_type": "code",
      "source": [
        "df['loan_status'] = df['loan_status'].astype('category')\n",
        "df['loan_status'].value_counts()"
      ],
      "metadata": {
        "colab": {
          "base_uri": "https://localhost:8080/"
        },
        "id": "-pLg8QNGB853",
        "outputId": "061c2fe0-fa6d-4a38-f247-c3d02831e782"
      },
      "execution_count": 44,
      "outputs": [
        {
          "output_type": "execute_result",
          "data": {
            "text/plain": [
              "Fully Paid     32950\n",
              "Charged Off     5627\n",
              "Current         1140\n",
              "Name: loan_status, dtype: int64"
            ]
          },
          "metadata": {},
          "execution_count": 44
        }
      ]
    },
    {
      "cell_type": "code",
      "source": [
        "df = df[df['loan_status'] != 'Current']\n",
        "df['loan_status'] = df['loan_status'].apply(lambda x: 0 if x=='Fully Paid' else 1)\n"
      ],
      "metadata": {
        "colab": {
          "base_uri": "https://localhost:8080/"
        },
        "id": "wX1K8X6dCOVw",
        "outputId": "abb181d6-6a04-4da0-8c8e-3750670e2c81"
      },
      "execution_count": 47,
      "outputs": [
        {
          "output_type": "stream",
          "name": "stderr",
          "text": [
            "/usr/local/lib/python3.7/dist-packages/ipykernel_launcher.py:2: SettingWithCopyWarning: \n",
            "A value is trying to be set on a copy of a slice from a DataFrame.\n",
            "Try using .loc[row_indexer,col_indexer] = value instead\n",
            "\n",
            "See the caveats in the documentation: https://pandas.pydata.org/pandas-docs/stable/user_guide/indexing.html#returning-a-view-versus-a-copy\n",
            "  \n"
          ]
        }
      ]
    },
    {
      "cell_type": "code",
      "source": [
        "df['loan_status'] = df['loan_status'].apply(lambda x: pd.to_numeric(x))"
      ],
      "metadata": {
        "colab": {
          "base_uri": "https://localhost:8080/"
        },
        "id": "IJstVYqSCoJI",
        "outputId": "7ec23ec2-7019-4eb1-efc0-b6452d97c69b"
      },
      "execution_count": 48,
      "outputs": [
        {
          "output_type": "stream",
          "name": "stderr",
          "text": [
            "/usr/local/lib/python3.7/dist-packages/ipykernel_launcher.py:1: SettingWithCopyWarning: \n",
            "A value is trying to be set on a copy of a slice from a DataFrame.\n",
            "Try using .loc[row_indexer,col_indexer] = value instead\n",
            "\n",
            "See the caveats in the documentation: https://pandas.pydata.org/pandas-docs/stable/user_guide/indexing.html#returning-a-view-versus-a-copy\n",
            "  \"\"\"Entry point for launching an IPython kernel.\n"
          ]
        }
      ]
    },
    {
      "cell_type": "code",
      "source": [
        "df['loan_status'].value_counts()"
      ],
      "metadata": {
        "colab": {
          "base_uri": "https://localhost:8080/"
        },
        "id": "aAToqUKMCq_O",
        "outputId": "f3c57a51-8494-449a-eca0-0b07cb69e1cb"
      },
      "execution_count": 49,
      "outputs": [
        {
          "output_type": "execute_result",
          "data": {
            "text/plain": [
              "0    32950\n",
              "1     5627\n",
              "Name: loan_status, dtype: int64"
            ]
          },
          "metadata": {},
          "execution_count": 49
        }
      ]
    },
    {
      "cell_type": "code",
      "source": [
        "round(np.mean(df['loan_status']), 2)"
      ],
      "metadata": {
        "colab": {
          "base_uri": "https://localhost:8080/"
        },
        "id": "Fs11soYsCuZ2",
        "outputId": "cb7f3375-d57b-4c3f-d7b7-8a663d170570"
      },
      "execution_count": 50,
      "outputs": [
        {
          "output_type": "execute_result",
          "data": {
            "text/plain": [
              "0.15"
            ]
          },
          "metadata": {},
          "execution_count": 50
        }
      ]
    },
    {
      "cell_type": "code",
      "source": [
        "sns.barplot(x='grade', y='loan_status', data=df)\n",
        "plt.show()"
      ],
      "metadata": {
        "colab": {
          "base_uri": "https://localhost:8080/",
          "height": 279
        },
        "id": "Aid3xULSC3rG",
        "outputId": "6eb39d9a-8587-4fef-b55c-9957a9cea2e7"
      },
      "execution_count": 51,
      "outputs": [
        {
          "output_type": "display_data",
          "data": {
            "text/plain": [
              "<Figure size 432x288 with 1 Axes>"
            ],
            "image/png": "[encoded data removed]"
          },
          "metadata": {
            "needs_background": "light"
          }
        }
      ]
    },
    {
      "cell_type": "code",
      "source": [
        "def plot_cat(cat_var):\n",
        "    sns.barplot(x=cat_var, y='loan_status', data=df)\n",
        "    plt.show()\n",
        "\n",
        "    "
      ],
      "metadata": {
        "id": "gpYe628SC-HP"
      },
      "execution_count": 58,
      "outputs": []
    },
    {
      "cell_type": "code",
      "source": [
        "plot_cat('term')"
      ],
      "metadata": {
        "colab": {
          "base_uri": "https://localhost:8080/",
          "height": 279
        },
        "id": "wQGfW9kbLbcU",
        "outputId": "80581283-6546-43e8-cfc7-526b8ca48149"
      },
      "execution_count": 59,
      "outputs": [
        {
          "output_type": "display_data",
          "data": {
            "text/plain": [
              "<Figure size 432x288 with 1 Axes>"
            ],
            "image/png": "[encoded data removed]"
          },
          "metadata": {
            "needs_background": "light"
          }
        }
      ]
    },
    {
      "cell_type": "code",
      "source": [
        "def int_rate(n):\n",
        "    if n <= 10:\n",
        "        return 'low'\n",
        "    elif n > 10 and n <=15:\n",
        "        return 'medium'\n",
        "    else:\n",
        "        return 'high'\n",
        "    \n",
        "    \n",
        "df['int_rate'] = df['int_rate'].apply(lambda x: int_rate(x))"
      ],
      "metadata": {
        "id": "tBBk7tpCLnvT"
      },
      "execution_count": 62,
      "outputs": []
    },
    {
      "cell_type": "code",
      "source": [
        "plot_cat('int_rate')"
      ],
      "metadata": {
        "colab": {
          "base_uri": "https://localhost:8080/",
          "height": 280
        },
        "id": "KZBsvBD3MYMM",
        "outputId": "72be9e36-a45c-492d-afce-b9bb9cfca68c"
      },
      "execution_count": 63,
      "outputs": [
        {
          "output_type": "display_data",
          "data": {
            "text/plain": [
              "<Figure size 432x288 with 1 Axes>"
            ],
            "image/png": "[encoded data removed]"
          },
          "metadata": {
            "needs_background": "light"
          }
        }
      ]
    },
    {
      "cell_type": "markdown",
      "source": [
        "As per above graph more the intrest rate is the more risk to default "
      ],
      "metadata": {
        "id": "4VZPWLawMdbL"
      }
    },
    {
      "cell_type": "code",
      "source": [
        "# annual income\n",
        "def annual_income(n):\n",
        "    if n <= 50000:\n",
        "        return 'low'\n",
        "    elif n > 50000 and n <=100000:\n",
        "        return 'medium'\n",
        "    elif n > 100000 and n <=150000:\n",
        "        return 'high'\n",
        "    else:\n",
        "        return 'very high'\n",
        "\n",
        "df['annual_inc'] = df['annual_inc'].apply(lambda x: annual_income(x))"
      ],
      "metadata": {
        "id": "pUJrd3a5M5_T"
      },
      "execution_count": 64,
      "outputs": []
    },
    {
      "cell_type": "code",
      "source": [
        "plot_cat('annual_inc')"
      ],
      "metadata": {
        "colab": {
          "base_uri": "https://localhost:8080/",
          "height": 280
        },
        "id": "LN4Gh4YzM7ez",
        "outputId": "27c5b292-24ba-46a3-f991-dc2c90d83e2d"
      },
      "execution_count": 65,
      "outputs": [
        {
          "output_type": "display_data",
          "data": {
            "text/plain": [
              "<Figure size 432x288 with 1 Axes>"
            ],
            "image/png": "[encoded data removed]"
          },
          "metadata": {
            "needs_background": "light"
          }
        }
      ]
    },
    {
      "cell_type": "markdown",
      "source": [
        "Less Annual income means more chances to default "
      ],
      "metadata": {
        "id": "mGwEAy2IM-uL"
      }
    },
    {
      "cell_type": "code",
      "source": [
        "plt.figure(figsize=(16, 6))\n",
        "plot_cat('purpose')"
      ],
      "metadata": {
        "colab": {
          "base_uri": "https://localhost:8080/",
          "height": 389
        },
        "id": "gEHQhLVmNKF7",
        "outputId": "a7cf7396-4b44-4f00-c550-6ee01cc28074"
      },
      "execution_count": 66,
      "outputs": [
        {
          "output_type": "display_data",
          "data": {
            "text/plain": [
              "<Figure size 1152x432 with 1 Axes>"
            ],
            "image/png": "[encoded data removed]"
          },
          "metadata": {
            "needs_background": "light"
          }
        }
      ]
    },
    {
      "cell_type": "markdown",
      "source": [
        "Loan taken for small business is on high risk , however for wedding purpose on low risk "
      ],
      "metadata": {
        "id": "SSU-qTkxNWeG"
      }
    }
  ]
}